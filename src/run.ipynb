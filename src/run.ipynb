import torch

torch.__version__, torch.cuda.is_available()

!pip install --upgrade pip
!pip install nltk
!pip install tensorboard
!pip install torch==1.6.0


!python train.py --expid noise_LargerLr -r
