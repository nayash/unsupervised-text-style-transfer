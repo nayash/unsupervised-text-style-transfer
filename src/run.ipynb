{
 "cells": [
  {
   "cell_type": "markdown",
   "metadata": {},
   "source": [
    "use this notebook to run the main script if you prefer notebook experience or if you are running from cloud notebook instances. \n",
    "uncomment and run below cell if required, which I found frequently needed."
   ]
  },
  {
   "cell_type": "code",
   "execution_count": null,
   "metadata": {},
   "outputs": [],
   "source": [
    "# !pip install --upgrade pip\n",
    "# !pip install nltk\n",
    "# !pip install tensorboard\n",
    "# !pip install torch==1.6.\n",
    "\n",
    "# import nltk\n",
    "# nltk.download('punkt')\n",
    "\n",
    "# download and store git-large-file \"glove embeddings\" on required path. train.py expects it in \n",
    "# $project_root/inputs/glove.6B.200d.txt\n",
    "# import urllib\n",
    "# urllib.request.urlretrieve(\"https://github.com/nayash/unsupervised-text-style-transfer/raw/master/inputs/glove.6B.200d.txt\", \"/storage/glove.6B.200d.txt\")"
   ]
  }
 ],
 "metadata": {
  "kernelspec": {
   "display_name": "Python 3",
   "language": "python",
   "name": "python3"
  },
  "language_info": {
   "codemirror_mode": {
    "name": "ipython",
    "version": 3
   },
   "file_extension": ".py",
   "mimetype": "text/x-python",
   "name": "python",
   "nbconvert_exporter": "python",
   "pygments_lexer": "ipython3",
   "version": "3.8.5"
  }
 },
 "nbformat": 4,
 "nbformat_minor": 4
}
